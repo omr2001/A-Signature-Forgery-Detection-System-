{
  "nbformat": 4,
  "nbformat_minor": 0,
  "metadata": {
    "colab": {
      "provenance": []
    },
    "kernelspec": {
      "name": "python3",
      "display_name": "Python 3"
    },
    "language_info": {
      "name": "python"
    },
    "accelerator": "GPU",
    "gpuClass": "standard"
  },
  "cells": [
    {
      "cell_type": "code",
      "execution_count": null,
      "metadata": {
        "colab": {
          "base_uri": "https://localhost:8080/"
        },
        "id": "K0x0ncQNxXuo",
        "outputId": "3e2ec7a7-deda-4039-81d2-1beeb4a9ab3e"
      },
      "outputs": [
        {
          "output_type": "stream",
          "name": "stdout",
          "text": [
            "done\n"
          ]
        }
      ],
      "source": [
        "#Extract Data\n",
        "from zipfile import ZipFile\n",
        "file_name=\"/content/drive/MyDrive/CV_2023_SC_Dataset.zip\"\n",
        "with ZipFile(file_name,'r')as zip:\n",
        "  zip.extractall()\n",
        "  print(\"done\")"
      ]
    },
    {
      "cell_type": "code",
      "source": [
        "import keras,os\n",
        "from keras.models import Sequential\n",
        "from keras.layers import Dense, Conv2D, MaxPool2D , Flatten\n",
        "from keras.preprocessing.image import ImageDataGenerator\n",
        "import numpy as np"
      ],
      "metadata": {
        "id": "LazjQjzEzMhn"
      },
      "execution_count": null,
      "outputs": []
    },
    {
      "cell_type": "code",
      "source": [
        "TRAIN_DIR = r'/content/personA/Train'\n",
        "TEST_DIR = r'/content/personA/Test'"
      ],
      "metadata": {
        "id": "eqf0LLWW4q1b"
      },
      "execution_count": null,
      "outputs": []
    },
    {
      "cell_type": "code",
      "source": [
        "import numpy as np\n",
        "import cv2\n",
        "from random import shuffle\n",
        "import matplotlib.pyplot as plt"
      ],
      "metadata": {
        "id": "Y3kImMJ26AKL"
      },
      "execution_count": null,
      "outputs": []
    },
    {
      "cell_type": "code",
      "source": [
        "trainingData = []\n",
        "testingData=[]\n",
        "path = '/content/personA/Train'\n",
        "for img in os.listdir(path):\n",
        "    try:\n",
        "      image = cv2.imread(os.path.join(path,img),cv2.IMREAD_UNCHANGED)\n",
        "      imageLabel=0\n",
        "      imageResized = cv2.resize(image,(80,80))\n",
        "      trainingData.append([imageResized,imageLabel])\n",
        "    except Exception as e: \n",
        "      pass\n",
        "print(len(trainingData))\n",
        "path = '/content/personB/Train'\n",
        "for img in os.listdir(path):\n",
        "    try:\n",
        "      image = cv2.imread(os.path.join(path,img),cv2.IMREAD_UNCHANGED)\n",
        "      imageLabel=1\n",
        "      imageResized = cv2.resize(image,(80,80))\n",
        "      trainingData.append([imageResized,imageLabel])\n",
        "    except Exception as e: \n",
        "      pass\n",
        "print(len(trainingData))\n",
        "path = '/content/personC/Train'\n",
        "for img in os.listdir(path):\n",
        "    try:\n",
        "      image = cv2.imread(os.path.join(path,img),cv2.IMREAD_UNCHANGED)\n",
        "      imageLabel=2\n",
        "      imageResized = cv2.resize(image,(80,80))\n",
        "      trainingData.append([imageResized,imageLabel])\n",
        "    except Exception as e: \n",
        "      pass\n",
        "print(len(trainingData))\n",
        "path = '/content/personD/Train'\n",
        "for img in os.listdir(path):\n",
        "    try:\n",
        "      image = cv2.imread(os.path.join(path,img),cv2.IMREAD_UNCHANGED)\n",
        "      imageLabel=3\n",
        "      imageResized = cv2.resize(image,(80,80))\n",
        "      trainingData.append([imageResized,imageLabel])\n",
        "    except Exception as e: \n",
        "      pass\n",
        "print(len(trainingData))\n",
        "path = '/content/personE/Train'\n",
        "for img in os.listdir(path):\n",
        "    try:\n",
        "      image = cv2.imread(os.path.join(path,img),cv2.IMREAD_UNCHANGED)\n",
        "      imageLabel=4\n",
        "      imageResized = cv2.resize(image,(80,80))\n",
        "      trainingData.append([imageResized,imageLabel])\n",
        "    except Exception as e: \n",
        "      pass\n",
        "print(len(trainingData))\n",
        "path='/content/personA/Test'\n",
        "for img in os.listdir(path):\n",
        "   try:\n",
        "      image = cv2.imread(os.path.join(path,img),cv2.IMREAD_UNCHANGED)\n",
        "      imageLabel=0\n",
        "      imageResized = cv2.resize(image,(80,80))\n",
        "      testingData.append([imageResized,imageLabel])\n",
        "   except Exception as e: \n",
        "      pass\n",
        "print(len(testingData))\n",
        "path='/content/personB/Test'\n",
        "for img in os.listdir(path):\n",
        "   try:\n",
        "      image = cv2.imread(os.path.join(path,img),cv2.IMREAD_UNCHANGED)\n",
        "      imageLabel=1\n",
        "      imageResized = cv2.resize(image,(80,80))\n",
        "      testingData.append([imageResized,imageLabel])\n",
        "   except Exception as e: \n",
        "      pass\n",
        "print(len(testingData))\n",
        "path='/content/personC/Test'\n",
        "for img in os.listdir(path):\n",
        "   try:\n",
        "      image = cv2.imread(os.path.join(path,img),cv2.IMREAD_UNCHANGED)\n",
        "      imageLabel=2\n",
        "      imageResized = cv2.resize(image,(80,80))\n",
        "      testingData.append([imageResized,imageLabel])\n",
        "   except Exception as e: \n",
        "      pass\n",
        "print(len(testingData))\n",
        "path='/content/personD/Test'\n",
        "for img in os.listdir(path):\n",
        "   try:\n",
        "      image = cv2.imread(os.path.join(path,img),cv2.IMREAD_UNCHANGED)\n",
        "      imageLabel=3\n",
        "      imageResized = cv2.resize(image,(80,80))\n",
        "      testingData.append([imageResized,imageLabel])\n",
        "   except Exception as e: \n",
        "      pass\n",
        "print(len(testingData))\n",
        "path='/content/personE/Test'\n",
        "for img in os.listdir(path):\n",
        "   try:\n",
        "      image = cv2.imread(os.path.join(path,img),cv2.IMREAD_UNCHANGED)\n",
        "      imageLabel=4\n",
        "      imageResized = cv2.resize(image,(80,80))\n",
        "      testingData.append([imageResized,imageLabel])\n",
        "   except Exception as e: \n",
        "      pass\n",
        "print(len(testingData))"
      ],
      "metadata": {
        "colab": {
          "base_uri": "https://localhost:8080/"
        },
        "id": "ShIuUVy7zxQ0",
        "outputId": "ae91a164-07c5-414d-cdea-6fbbd8865797"
      },
      "execution_count": null,
      "outputs": [
        {
          "output_type": "stream",
          "name": "stdout",
          "text": [
            "40\n",
            "80\n",
            "120\n",
            "160\n",
            "200\n",
            "8\n",
            "16\n",
            "24\n",
            "32\n",
            "40\n"
          ]
        }
      ]
    },
    {
      "cell_type": "code",
      "source": [
        "trainingData=np.array(trainingData)\n",
        "testingData=np.array(testingData)"
      ],
      "metadata": {
        "colab": {
          "base_uri": "https://localhost:8080/"
        },
        "id": "m_wn1Xgi6D5U",
        "outputId": "258fc13d-665a-43b1-e26c-33c1aa191d32"
      },
      "execution_count": null,
      "outputs": [
        {
          "output_type": "stream",
          "name": "stderr",
          "text": [
            "<ipython-input-6-78d374558278>:1: VisibleDeprecationWarning: Creating an ndarray from ragged nested sequences (which is a list-or-tuple of lists-or-tuples-or ndarrays with different lengths or shapes) is deprecated. If you meant to do this, you must specify 'dtype=object' when creating the ndarray.\n",
            "  trainingData=np.array(trainingData)\n",
            "<ipython-input-6-78d374558278>:2: VisibleDeprecationWarning: Creating an ndarray from ragged nested sequences (which is a list-or-tuple of lists-or-tuples-or ndarrays with different lengths or shapes) is deprecated. If you meant to do this, you must specify 'dtype=object' when creating the ndarray.\n",
            "  testingData=np.array(testingData)\n"
          ]
        }
      ]
    },
    {
      "cell_type": "code",
      "source": [
        "from keras.applications.vgg16 import VGG16"
      ],
      "metadata": {
        "id": "Hp32nMfq7DMt"
      },
      "execution_count": null,
      "outputs": []
    },
    {
      "cell_type": "code",
      "source": [
        "#########################Model1################################\n",
        "X = []\n",
        "Y = []\n",
        "for features,labels in trainingData:\n",
        "  X.append(features)\n",
        "  Y.append(labels)\n",
        "X = np.array(X)\n",
        "Y = np.array(Y)\n",
        "X = X/255\n",
        "X_Test = []\n",
        "Y_Test = []\n",
        "for features,labels in testingData:\n",
        "  X_Test.append(features)\n",
        "  Y_Test.append(labels)\n",
        "X_Test = np.array(X_Test)\n",
        "Y_Test = np.array(Y_Test)\n",
        "X_Test = X_Test/255\n"
      ],
      "metadata": {
        "id": "mwSr_7FD98Xb"
      },
      "execution_count": null,
      "outputs": []
    },
    {
      "cell_type": "code",
      "source": [
        "from sklearn.model_selection import train_test_split\n",
        "X_Train,X_Valid,Y_Train,Y_Valid=train_test_split(X,Y,test_size=0.2,shuffle=True)"
      ],
      "metadata": {
        "id": "-dqLGCFaWMPi"
      },
      "execution_count": null,
      "outputs": []
    },
    {
      "cell_type": "code",
      "source": [
        "from keras.applications.vgg16 import VGG16 "
      ],
      "metadata": {
        "id": "srtn_VZiJa2D"
      },
      "execution_count": null,
      "outputs": []
    },
    {
      "cell_type": "code",
      "source": [
        "vgg=VGG16(input_shape=(80,80,3),weights='imagenet',include_top=False)\n",
        "for layer in vgg.layers:\n",
        "  layer.trainable=False"
      ],
      "metadata": {
        "id": "dF1kttHDMGsH",
        "colab": {
          "base_uri": "https://localhost:8080/"
        },
        "outputId": "caa9b5ec-d547-4ee4-8a94-0a71d33862c3"
      },
      "execution_count": null,
      "outputs": [
        {
          "output_type": "stream",
          "name": "stdout",
          "text": [
            "Downloading data from https://storage.googleapis.com/tensorflow/keras-applications/vgg16/vgg16_weights_tf_dim_ordering_tf_kernels_notop.h5\n",
            "58889256/58889256 [==============================] - 3s 0us/step\n"
          ]
        }
      ]
    },
    {
      "cell_type": "code",
      "source": [
        "x=Flatten()(vgg.output)\n",
        "prediction=Dense(5,activation='softmax')(x)"
      ],
      "metadata": {
        "id": "N53vPKGuM1lL"
      },
      "execution_count": null,
      "outputs": []
    },
    {
      "cell_type": "code",
      "source": [
        "from keras.models import Model\n",
        "model5=Model(inputs=vgg.input,outputs=prediction)\n",
        "model5.compile(loss='sparse_categorical_crossentropy',optimizer='adam',metrics=['accuracy'])"
      ],
      "metadata": {
        "id": "Um7erNDRNNWr"
      },
      "execution_count": null,
      "outputs": []
    },
    {
      "cell_type": "markdown",
      "source": [],
      "metadata": {
        "id": "TteeX8INr1hH"
      }
    },
    {
      "cell_type": "code",
      "source": [
        "from datetime import datetime as dt\n",
        "start = dt.now()\n",
        "history=model5.fit(X_Train,Y_Train,validation_data=(X_Valid,Y_Valid),epochs=30)\n",
        "running_secs = (dt.now() - start).seconds\n",
        "print(running_secs)"
      ],
      "metadata": {
        "colab": {
          "base_uri": "https://localhost:8080/"
        },
        "id": "eW0PjiV6ObtP",
        "outputId": "c2ecb5fe-0c72-46f4-d958-ebf0cf91d253"
      },
      "execution_count": null,
      "outputs": [
        {
          "output_type": "stream",
          "name": "stdout",
          "text": [
            "Epoch 1/30\n",
            "5/5 [==============================] - 9s 173ms/step - loss: 1.6344 - accuracy: 0.3750 - val_loss: 1.2903 - val_accuracy: 0.7250\n",
            "Epoch 2/30\n",
            "5/5 [==============================] - 0s 39ms/step - loss: 1.3100 - accuracy: 0.5312 - val_loss: 1.1188 - val_accuracy: 0.6750\n",
            "Epoch 3/30\n",
            "5/5 [==============================] - 0s 40ms/step - loss: 1.0585 - accuracy: 0.8062 - val_loss: 0.8263 - val_accuracy: 1.0000\n",
            "Epoch 4/30\n",
            "5/5 [==============================] - 0s 39ms/step - loss: 0.8277 - accuracy: 0.9187 - val_loss: 0.6742 - val_accuracy: 1.0000\n",
            "Epoch 5/30\n",
            "5/5 [==============================] - 0s 40ms/step - loss: 0.6846 - accuracy: 0.9438 - val_loss: 0.5477 - val_accuracy: 1.0000\n",
            "Epoch 6/30\n",
            "5/5 [==============================] - 0s 50ms/step - loss: 0.5572 - accuracy: 0.9937 - val_loss: 0.4572 - val_accuracy: 1.0000\n",
            "Epoch 7/30\n",
            "5/5 [==============================] - 0s 40ms/step - loss: 0.4730 - accuracy: 1.0000 - val_loss: 0.3972 - val_accuracy: 0.9750\n",
            "Epoch 8/30\n",
            "5/5 [==============================] - 0s 40ms/step - loss: 0.4051 - accuracy: 1.0000 - val_loss: 0.3234 - val_accuracy: 1.0000\n",
            "Epoch 9/30\n",
            "5/5 [==============================] - 0s 39ms/step - loss: 0.3480 - accuracy: 1.0000 - val_loss: 0.2808 - val_accuracy: 1.0000\n",
            "Epoch 10/30\n",
            "5/5 [==============================] - 0s 46ms/step - loss: 0.3043 - accuracy: 1.0000 - val_loss: 0.2476 - val_accuracy: 1.0000\n",
            "Epoch 11/30\n",
            "5/5 [==============================] - 0s 42ms/step - loss: 0.2701 - accuracy: 1.0000 - val_loss: 0.2255 - val_accuracy: 1.0000\n",
            "Epoch 12/30\n",
            "5/5 [==============================] - 0s 40ms/step - loss: 0.2413 - accuracy: 1.0000 - val_loss: 0.2008 - val_accuracy: 1.0000\n",
            "Epoch 13/30\n",
            "5/5 [==============================] - 0s 40ms/step - loss: 0.2171 - accuracy: 1.0000 - val_loss: 0.1806 - val_accuracy: 1.0000\n",
            "Epoch 14/30\n",
            "5/5 [==============================] - 0s 41ms/step - loss: 0.1987 - accuracy: 1.0000 - val_loss: 0.1672 - val_accuracy: 1.0000\n",
            "Epoch 15/30\n",
            "5/5 [==============================] - 0s 40ms/step - loss: 0.1810 - accuracy: 1.0000 - val_loss: 0.1527 - val_accuracy: 1.0000\n",
            "Epoch 16/30\n",
            "5/5 [==============================] - 0s 42ms/step - loss: 0.1670 - accuracy: 1.0000 - val_loss: 0.1391 - val_accuracy: 1.0000\n",
            "Epoch 17/30\n",
            "5/5 [==============================] - 0s 40ms/step - loss: 0.1540 - accuracy: 1.0000 - val_loss: 0.1314 - val_accuracy: 1.0000\n",
            "Epoch 18/30\n",
            "5/5 [==============================] - 0s 40ms/step - loss: 0.1430 - accuracy: 1.0000 - val_loss: 0.1241 - val_accuracy: 1.0000\n",
            "Epoch 19/30\n",
            "5/5 [==============================] - 0s 39ms/step - loss: 0.1337 - accuracy: 1.0000 - val_loss: 0.1168 - val_accuracy: 1.0000\n",
            "Epoch 20/30\n",
            "5/5 [==============================] - 0s 39ms/step - loss: 0.1248 - accuracy: 1.0000 - val_loss: 0.1072 - val_accuracy: 1.0000\n",
            "Epoch 21/30\n",
            "5/5 [==============================] - 0s 40ms/step - loss: 0.1175 - accuracy: 1.0000 - val_loss: 0.0991 - val_accuracy: 1.0000\n",
            "Epoch 22/30\n",
            "5/5 [==============================] - 0s 40ms/step - loss: 0.1104 - accuracy: 1.0000 - val_loss: 0.0969 - val_accuracy: 1.0000\n",
            "Epoch 23/30\n",
            "5/5 [==============================] - 0s 47ms/step - loss: 0.1042 - accuracy: 1.0000 - val_loss: 0.0945 - val_accuracy: 1.0000\n",
            "Epoch 24/30\n",
            "5/5 [==============================] - 0s 40ms/step - loss: 0.0985 - accuracy: 1.0000 - val_loss: 0.0892 - val_accuracy: 1.0000\n",
            "Epoch 25/30\n",
            "5/5 [==============================] - 0s 40ms/step - loss: 0.0935 - accuracy: 1.0000 - val_loss: 0.0811 - val_accuracy: 1.0000\n",
            "Epoch 26/30\n",
            "5/5 [==============================] - 0s 40ms/step - loss: 0.0884 - accuracy: 1.0000 - val_loss: 0.0777 - val_accuracy: 1.0000\n",
            "Epoch 27/30\n",
            "5/5 [==============================] - 0s 40ms/step - loss: 0.0841 - accuracy: 1.0000 - val_loss: 0.0751 - val_accuracy: 1.0000\n",
            "Epoch 28/30\n",
            "5/5 [==============================] - 0s 40ms/step - loss: 0.0805 - accuracy: 1.0000 - val_loss: 0.0730 - val_accuracy: 1.0000\n",
            "Epoch 29/30\n",
            "5/5 [==============================] - 0s 46ms/step - loss: 0.0769 - accuracy: 1.0000 - val_loss: 0.0673 - val_accuracy: 1.0000\n",
            "Epoch 30/30\n",
            "5/5 [==============================] - 0s 39ms/step - loss: 0.0729 - accuracy: 1.0000 - val_loss: 0.0659 - val_accuracy: 1.0000\n",
            "15\n"
          ]
        }
      ]
    },
    {
      "cell_type": "code",
      "source": [
        "from matplotlib import pyplot as plt\n",
        "plt.plot(history.history['accuracy'])\n",
        "plt.plot(history.history['val_accuracy'])\n",
        "plt.title('model accuracy')\n",
        "plt.ylabel('accuracy')\n",
        "plt.xlabel('epoch')\n",
        "plt.legend(['train', 'val'], loc='upper left')\n",
        "plt.show()"
      ],
      "metadata": {
        "colab": {
          "base_uri": "https://localhost:8080/",
          "height": 295
        },
        "id": "L6Sx4bcLuml-",
        "outputId": "68b23cd3-33af-4e08-f38e-42869817b2e1"
      },
      "execution_count": null,
      "outputs": [
        {
          "output_type": "display_data",
          "data": {
            "text/plain": [
              "<Figure size 432x288 with 1 Axes>"
            ],
            "image/png": "[encoded data removed]"
          },
          "metadata": {
            "needs_background": "light"
          }
        }
      ]
    },
    {
      "cell_type": "code",
      "source": [
        "from datetime import datetime as dt\n",
        "start = dt.now()\n",
        "model5.evaluate(X_Test,Y_Test)\n",
        "running_secs2 = (dt.now() - start)\n",
        "print(running_secs2)"
      ],
      "metadata": {
        "colab": {
          "base_uri": "https://localhost:8080/"
        },
        "id": "K0Qw7tcXOhi1",
        "outputId": "3859ad3f-79ea-4bf8-9f69-fd5ea3a47c64"
      },
      "execution_count": null,
      "outputs": [
        {
          "output_type": "stream",
          "name": "stdout",
          "text": [
            "2/2 [==============================] - 0s 15ms/step - loss: 0.1207 - accuracy: 1.0000\n",
            "0:00:00.114097\n"
          ]
        }
      ]
    },
    {
      "cell_type": "code",
      "source": [
        "model5.save(\"ComputerVisionModel1.hdf5\")"
      ],
      "metadata": {
        "id": "-ocMs90LDVfm"
      },
      "execution_count": null,
      "outputs": []
    },
    {
      "cell_type": "code",
      "source": [
        "!pip install scikit-plot==0.3.7\n",
        "import scikitplot as skplt\n",
        "Y_Pred=model5.predict(X_Test)"
      ],
      "metadata": {
        "colab": {
          "base_uri": "https://localhost:8080/"
        },
        "id": "8ORy7mJBw3RA",
        "outputId": "c5ce7dcd-521a-4da3-f83a-30e557eb63c2"
      },
      "execution_count": null,
      "outputs": [
        {
          "output_type": "stream",
          "name": "stdout",
          "text": [
            "Looking in indexes: https://pypi.org/simple, https://us-python.pkg.dev/colab-wheels/public/simple/\n",
            "Collecting scikit-plot==0.3.7\n",
            "  Downloading scikit_plot-0.3.7-py3-none-any.whl (33 kB)\n",
            "Requirement already satisfied: scipy>=0.9 in /usr/local/lib/python3.8/dist-packages (from scikit-plot==0.3.7) (1.7.3)\n",
            "Requirement already satisfied: joblib>=0.10 in /usr/local/lib/python3.8/dist-packages (from scikit-plot==0.3.7) (1.2.0)\n",
            "Requirement already satisfied: matplotlib>=1.4.0 in /usr/local/lib/python3.8/dist-packages (from scikit-plot==0.3.7) (3.2.2)\n",
            "Requirement already satisfied: scikit-learn>=0.18 in /usr/local/lib/python3.8/dist-packages (from scikit-plot==0.3.7) (1.0.2)\n",
            "Requirement already satisfied: kiwisolver>=1.0.1 in /usr/local/lib/python3.8/dist-packages (from matplotlib>=1.4.0->scikit-plot==0.3.7) (1.4.4)\n",
            "Requirement already satisfied: pyparsing!=2.0.4,!=2.1.2,!=2.1.6,>=2.0.1 in /usr/local/lib/python3.8/dist-packages (from matplotlib>=1.4.0->scikit-plot==0.3.7) (3.0.9)\n",
            "Requirement already satisfied: cycler>=0.10 in /usr/local/lib/python3.8/dist-packages (from matplotlib>=1.4.0->scikit-plot==0.3.7) (0.11.0)\n",
            "Requirement already satisfied: numpy>=1.11 in /usr/local/lib/python3.8/dist-packages (from matplotlib>=1.4.0->scikit-plot==0.3.7) (1.21.6)\n",
            "Requirement already satisfied: python-dateutil>=2.1 in /usr/local/lib/python3.8/dist-packages (from matplotlib>=1.4.0->scikit-plot==0.3.7) (2.8.2)\n",
            "Requirement already satisfied: six>=1.5 in /usr/local/lib/python3.8/dist-packages (from python-dateutil>=2.1->matplotlib>=1.4.0->scikit-plot==0.3.7) (1.15.0)\n",
            "Requirement already satisfied: threadpoolctl>=2.0.0 in /usr/local/lib/python3.8/dist-packages (from scikit-learn>=0.18->scikit-plot==0.3.7) (3.1.0)\n",
            "Installing collected packages: scikit-plot\n",
            "Successfully installed scikit-plot-0.3.7\n",
            "2/2 [==============================] - 1s 36ms/step\n"
          ]
        }
      ]
    },
    {
      "cell_type": "code",
      "source": [
        "skplt.metrics.plot_precision_recall(Y_Test, Y_Pred, title = 'PR Curve')"
      ],
      "metadata": {
        "colab": {
          "base_uri": "https://localhost:8080/",
          "height": 312
        },
        "id": "Ykq7rr9ltizF",
        "outputId": "48f78e7d-fb70-44e0-f160-94ce8e9ce7de"
      },
      "execution_count": null,
      "outputs": [
        {
          "output_type": "execute_result",
          "data": {
            "text/plain": [
              "<matplotlib.axes._subplots.AxesSubplot at 0x7fb0c5101160>"
            ]
          },
          "metadata": {},
          "execution_count": 19
        },
        {
          "output_type": "display_data",
          "data": {
            "text/plain": [
              "<Figure size 432x288 with 1 Axes>"
            ],
            "image/png": "[encoded data removed]"
          },
          "metadata": {
            "needs_background": "light"
          }
        }
      ]
    },
    {
      "cell_type": "code",
      "source": [
        "import imutils\n",
        "imageTest = cv2.imread(\"/content/personA/Test/personA_13.png\",cv2.IMREAD_UNCHANGED)\n",
        "displayImage = imutils.resize(imageTest,width=300)\n",
        "imageResized = cv2.resize(imageTest,(80,80))\n",
        "testingData = []\n",
        "testingData.append([imageResized])\n",
        "Xtest =[]\n",
        "Xtest.append(testingData[0])\n",
        "Xtest = np.array(Xtest)\n",
        "Xtest=Xtest/255"
      ],
      "metadata": {
        "id": "Q2CjgwIbT_HY"
      },
      "execution_count": null,
      "outputs": []
    },
    {
      "cell_type": "code",
      "source": [
        "from google.colab.patches import cv2_imshow\n",
        "cv2_imshow(displayImage)\n",
        "pre = model5.predict(Xtest[0],verbose=3)\n",
        "if   np.argmax(pre) == 0:\n",
        "    output ='Person A'\n",
        "elif np.argmax(pre) == 1:\n",
        "    output ='Person B'\n",
        "elif  np.argmax(pre) == 2:\n",
        "    output ='Person C'\n",
        "elif np.argmax(pre) == 3:\n",
        "    output ='Person D'\n",
        "elif np.argmax(pre) == 4:\n",
        "    output ='Person E'\n",
        "print(output)"
      ],
      "metadata": {
        "colab": {
          "base_uri": "https://localhost:8080/",
          "height": 346
        },
        "id": "6dCPpL_1UBLh",
        "outputId": "bc8d8088-f770-4aab-f5f4-a287c71394aa"
      },
      "execution_count": null,
      "outputs": [
        {
          "output_type": "display_data",
          "data": {
            "text/plain": [
              "<PIL.Image.Image image mode=RGB size=300x312 at 0x7FB0C5114790>"
            ],
            "image/png": "[encoded data removed]"
          },
          "metadata": {}
        },
        {
          "output_type": "stream",
          "name": "stdout",
          "text": [
            "Person A\n"
          ]
        }
      ]
    },
    {
      "cell_type": "code",
      "source": [
        "imageTest = cv2.imread(\"/content/personD/Test/personD_SigVerificationTestLabels.csv\",cv2.IMREAD_UNCHANGED)\n",
        "displayImage = imutils.resize(imageTest,width=300)\n",
        "imageResized = cv2.resize(imageTest,(80,80))\n",
        "testingData = []\n",
        "testingData.append([imageResized])\n",
        "Xtest =[]\n",
        "Xtest.append(testingData[0])\n",
        "Xtest = np.array(Xtest)\n",
        "Xtest=Xtest/255"
      ],
      "metadata": {
        "id": "AAisLzvOU0sv"
      },
      "execution_count": null,
      "outputs": []
    },
    {
      "cell_type": "code",
      "source": [
        "from google.colab.patches import cv2_imshow\n",
        "cv2_imshow(displayImage)\n",
        "pre = model5.predict(Xtest[0],verbose=3)\n",
        "if   np.argmax(pre) == 0:\n",
        "    output ='Person A'\n",
        "elif np.argmax(pre) == 1:\n",
        "    output ='Person B'\n",
        "elif  np.argmax(pre) == 2:\n",
        "    output ='Person C'\n",
        "elif np.argmax(pre) == 3:\n",
        "    output ='Person D'\n",
        "elif np.argmax(pre) == 4:\n",
        "    output ='Person E'\n",
        "print(output)"
      ],
      "metadata": {
        "colab": {
          "base_uri": "https://localhost:8080/",
          "height": 242
        },
        "id": "DpCzW_aoVwGa",
        "outputId": "c82a967f-7b03-49ea-fac5-c84f2265726d"
      },
      "execution_count": null,
      "outputs": [
        {
          "output_type": "display_data",
          "data": {
            "text/plain": [
              "<PIL.Image.Image image mode=RGB size=300x208 at 0x7FB151F9B370>"
            ],
            "image/png": "[encoded data removed]"
          },
          "metadata": {}
        },
        {
          "output_type": "stream",
          "name": "stdout",
          "text": [
            "Person C\n"
          ]
        }
      ]
    },
    {
      "cell_type": "code",
      "source": [],
      "metadata": {
        "id": "CpW4vHWOV29m"
      },
      "execution_count": null,
      "outputs": []
    }
  ]
}